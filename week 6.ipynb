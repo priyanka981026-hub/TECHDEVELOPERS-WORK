{
 "cells": [
  {
   "cell_type": "markdown",
   "id": "d03bc20a-d3ac-4777-a59b-e32ea2581206",
   "metadata": {},
   "source": [
    "# Day 6 – Week 6 (Regex + JSON + API)"
   ]
  },
  {
   "cell_type": "markdown",
   "id": "6f067a96-8124-434b-8b17-06830136def1",
   "metadata": {},
   "source": [
    "# 1. Regular Expressions"
   ]
  },
  {
   "cell_type": "code",
   "execution_count": 1,
   "id": "c03d29ec-4e49-4208-9b54-e4a0957433fb",
   "metadata": {},
   "outputs": [],
   "source": [
    "# Regular Expressions- special search pattern to find and manipulate text.\n",
    "# APPLICATIONS OF REGEX- DATA VALIDATIONS( like mobile no valdations and email validations)\n",
    "# DATA EXTRACTION, DATA CLEANING, IT CREATE TRANSLATORS(like compiler, interpreters and assemblers.)\n",
    "# re module -contains built-in functions.\n",
    "# Basic functions- re.search(first match in string)\n",
    "# re.match- match only at start\n",
    "# re.sub-replace matches\n",
    "# re.split-split by pattern.\n",
    "# re.finditer - find all non -overlaping matches of a regex paattern in a given string."
   ]
  },
  {
   "cell_type": "code",
   "execution_count": 2,
   "id": "bde9cdbf-b033-4b5c-8446-0e93f6eafed0",
   "metadata": {},
   "outputs": [
    {
     "name": "stdout",
     "output_type": "stream",
     "text": [
      "match: portal\n",
      "start: 34 End: 40\n"
     ]
    }
   ],
   "source": [
    "# Regular Expressions in Python\n",
    "import re\n",
    "#basic search example\n",
    "txt = 'GeeksforGeeks: A computer science portal for geeks'\n",
    "match = re.search(r'portal', txt) #first match in string.\n",
    "if match:\n",
    "    print(\"match:\", match.group()) # group() : entire match -gives you acess to matched parts of the string.\n",
    "    print(\"start:\", match.start(), \"End:\", match.end())\n",
    "else:\n",
    "    print(\"No match\")"
   ]
  },
  {
   "cell_type": "code",
   "execution_count": 13,
   "id": "af9271c3-01e8-44e2-9f41-1ad5cfb92bcf",
   "metadata": {},
   "outputs": [
    {
     "name": "stdout",
     "output_type": "stream",
     "text": [
      "['test@example.com', 'info@geeks.org']\n",
      "<re.Match object; span=(0, 10), match='9823554422'>\n",
      "2020/08/18\n"
     ]
    }
   ],
   "source": [
    "# Why use RegEx? (Examples)\n",
    "# Extract email\n",
    "\n",
    "print(re.findall(r'\\S+@\\S+', \"My email is test@example.com and info@geeks.org\"))\n",
    "# Validate (Phone)\n",
    "print(re.match(r'\\d{10}', \"9823554422\")) # match only at start.\n",
    "# Text Processing (Replace date format)\n",
    "print(re.sub(r'(\\d{2})-(\\d{2})-(\\d{4})', r'\\3/\\2/\\1', \"18-08-2020\")) #substitue\n",
    "\n",
    "\n"
   ]
  },
  {
   "cell_type": "code",
   "execution_count": 14,
   "id": "11a6685f-7257-4e02-86b9-202822d2f748",
   "metadata": {},
   "outputs": [
    {
     "name": "stdout",
     "output_type": "stream",
     "text": [
      "['Geeks', 'Geeks', 'geeks']\n",
      "<re.Match object; span=(0, 1), match='x'>\n",
      "None\n",
      "<re.Match object; span=(0, 6), match='colour'>\n"
     ]
    }
   ],
   "source": [
    "# MetaCharacters # special character\n",
    "print(re.findall(r'[Gg]eeks', \"GeeksforGeeks: portal for geeks\"))  # Character class\n",
    "print(re.search(r'[a-zA-Z]', 'x'))  # Range\n",
    "print(re.search(r'[^a-z]', 'c'))   # Negation- match any character that is not a alphabets.\n",
    "print(re.search(r'colou?r' ,'colour'))   # Optional char"
   ]
  },
  {
   "cell_type": "code",
   "execution_count": 17,
   "id": "899ed664-9070-460f-8bb3-751e06339009",
   "metadata": {},
   "outputs": [
    {
     "name": "stdout",
     "output_type": "stream",
     "text": [
      "['1', '2', '3']\n",
      "['G', 'e', 'e', 'k']\n",
      "[' ']\n",
      "['h', 'i']\n",
      "['G', 'e', 'e', 'k', 's', '_', '1', '2', '3']\n",
      "['@', '$']\n",
      "<re.Match object; span=(0, 3), match='for'>\n",
      "<re.Match object; span=(7, 9), match='ge'>\n",
      "None\n"
     ]
    }
   ],
   "source": [
    "# Special Sequences\n",
    "print(re.findall(r'\\d', \"My roll no is 123\")) # Digits\n",
    "print(re.findall(r'\\D', \"Geek1\"))             # Non-digits   \n",
    "print(re.findall(r'\\s', \"hello world\"))       # Whitespace\n",
    "print(re.findall(r'\\S', \"hi\\n\"))               # Non-whitespace\n",
    "print(re.findall(r'\\w', \"Geeks_123\"))            # Alphanumeric\n",
    "print(re.findall(r'\\W', \"hello@$\"))               # Non-alphanumeric\n",
    "print(re.search(r'\\Afor', \"for geeks\"))            # Beginning\n",
    "print(re.search(r'ge\\b', \"I like ge\"))              # End of word\n",
    "print(re.search(r'\\Zend', \"the end\"))               # End of string \n",
    "      "
   ]
  },
  {
   "cell_type": "code",
   "execution_count": 22,
   "id": "b3441a32-cae9-4665-8523-088945592782",
   "metadata": {},
   "outputs": [
    {
     "name": "stdout",
     "output_type": "stream",
     "text": [
      "<re.Match object; span=(0, 4), match='Geek'>\n",
      "<re.Match object; span=(11, 16), match='Geeks'>\n",
      "<re.Match object; span=(0, 6), match='python'>\n"
     ]
    }
   ],
   "source": [
    "# Beginning ^ and End $\n",
    "print(re.search(r'^Geek', 'Geek of the month'))   \n",
    "print(re.search(r'Geeks$', 'Portal for Geeks'))\n",
    "# Any Character\n",
    "print(re.search(r'p.th.n', 'python 3'))\n"
   ]
  },
  {
   "cell_type": "code",
   "execution_count": 38,
   "id": "463f45b6-082d-4325-9a0a-4a35bf7d870d",
   "metadata": {},
   "outputs": [
    {
     "name": "stdout",
     "output_type": "stream",
     "text": [
      "['x', 'y', 'z']\n"
     ]
    }
   ],
   "source": [
    "print(re.findall(r\"[^abc]\", \"abcxyz\"))  \n",
    "# match anything except a, b, c"
   ]
  },
  {
   "cell_type": "code",
   "execution_count": 26,
   "id": "cb5eebbd-fc50-47c5-afb8-fbae5ae4e68d",
   "metadata": {},
   "outputs": [
    {
     "name": "stdout",
     "output_type": "stream",
     "text": [
      "<re.Match object; span=(0, 10), match='18-08-2020'>\n",
      "<re.Match object; span=(0, 4), match='2145'>\n",
      "<re.Match object; span=(0, 1), match='5'>\n",
      "<re.Match object; span=(5, 8), match='404'>\n"
     ]
    }
   ],
   "source": [
    "# Repetition\n",
    "print(re.search(r'[\\d]{2}-[\\d]{2}-[\\d]{4}', '18-08-2020'))   # Date\n",
    "print(re.search(r'[\\d]{3,4}', '2145'))  # Repetition range\n",
    "print(re.search(r'[\\d]{1,}', '5th Floor, A-118, Noida'))  # Open-ended\n",
    "print(re.search(r'[\\d]+', 'Room 404'))   # Shorthand +    # it is a shortcut notation for commonly used character classes-so you do not havt to writelong.\n",
    "\n"
   ]
  },
  {
   "cell_type": "code",
   "execution_count": 28,
   "id": "8032d57c-36be-422e-bff3-226a646ff7ae",
   "metadata": {},
   "outputs": [
    {
     "name": "stdout",
     "output_type": "stream",
     "text": [
      "26-08-2020\n",
      "('26', '08', '2020')\n",
      "2020\n",
      "08\n",
      "{'dd': '26', 'mm': '08', 'yyyy': '2020'}\n"
     ]
    }
   ],
   "source": [
    "# Grouping\n",
    "# -----------------------------\n",
    "grp = re.search(r'([\\d]{2})-([\\d]{2})-([\\d]{4})', '26-08-2020')\n",
    "print(grp.group())       # Entire match\n",
    "print(grp.groups())      # Tuple of groups\n",
    "print(grp.group(3))      # Single group\n",
    "match = re.search(r'(?P<dd>\\d{2})-(?P<mm>\\d{2})-(?P<yyyy>\\d{4})', '26-08-2020')\n",
    "print(match.group('mm'))  # Named group\n",
    "print(match.groupdict())  # Dictionary"
   ]
  },
  {
   "cell_type": "code",
   "execution_count": 37,
   "id": "e5a9dddc-cc99-43de-8577-5eea9fb4e963",
   "metadata": {},
   "outputs": [
    {
     "name": "stdout",
     "output_type": "stream",
     "text": [
      "<re.Match object; span=(5, 6), match='n'>\n",
      "<re.Match object; span=(5, 6), match='n'>\n",
      "1111222233334444\n",
      "<re.Match object; span=(0, 10), match='26-08-2020'>\n",
      "26.08.2020\n"
     ]
    }
   ],
   "source": [
    "# Lookahead\n",
    "print(re.search(r'n(?!e)', 'Python'))  # Negative lookahead -matches a pattern only if it is not followed by something not followed by digit.\n",
    "print(re.search(r'n(?=e)', 'jasmine')) # Positive lookahead-matches a pattern only if it is  followed by something.followed by digit.\n",
    "# Substitution\n",
    "print(re.sub(r'(\\d{4})-(\\d{4})-(\\d{4})-(\\d{4})', r'\\1\\2\\3\\4', \"1111-2222-3333-4444\"))\n",
    "# Compiled RegEx\n",
    "regex = re.compile(r'(\\d{2})-(\\d{2})-(\\d{4})') # compile -reuse a pattern multiple times without rewriting it\n",
    "print(regex.search('26-08-2020'))\n",
    "print(regex.sub(r'\\1.\\2.\\3', '26-08-2020'))# sub-no replacement happened when pattern does not match anything in string\n"
   ]
  },
  {
   "cell_type": "code",
   "execution_count": 41,
   "id": "242d1afe-a1c9-4ed9-9ff0-c8de13a0b9a3",
   "metadata": {},
   "outputs": [
    {
     "name": "stdout",
     "output_type": "stream",
     "text": [
      "['user123@gmail.com']\n"
     ]
    }
   ],
   "source": [
    "# Day 6 – Week 6 (Regex + JSON + API)\n",
    "# 1. Regular Expressions\n",
    "\n",
    "import re\n",
    "text = \"Python is easy, Email: user123@gmail.com\"\n",
    "email = re.findall(r'\\b[\\w.%+-]+@[A-Za-z0-9.-]+\\.[A-Z|a-z]{2,}\\b', text)\n",
    "print(email)\n"
   ]
  },
  {
   "cell_type": "code",
   "execution_count": null,
   "id": "b99c2e43-9b48-49ba-a532-a16242e74181",
   "metadata": {},
   "outputs": [],
   "source": [
    "# Explanation:\n",
    "\n",
    "# import re → use regex library.\n",
    "\n",
    "# re.findall(pattern, text) → finds all emails in the text.\n",
    "\n",
    "# Prints → ['user123@gmail.com']."
   ]
  },
  {
   "cell_type": "code",
   "execution_count": 43,
   "id": "63a55132-bda3-4f58-98ee-14fc044af39c",
   "metadata": {},
   "outputs": [
    {
     "name": "stdout",
     "output_type": "stream",
     "text": [
      "priya\n",
      "{\n",
      "  \"id\": 1,\n",
      "  \"skill\": \"Python\"\n",
      "}\n"
     ]
    }
   ],
   "source": [
    "# 2. JSON Parsing -javascript object notation is a standard format for storing and exchanging data.\n",
    "# parsins json- means converting json data into a usable data structure(like python ,dict, list)\n",
    "import json\n",
    "data = '{\"name\": \"priya\", \"role\": \"Python Developer\"}'\n",
    "parsed = json.loads(data)  # JSON → Python dict\n",
    "print(parsed[\"name\"])     # Priya\n",
    "person = {\"id\": 1, \"skill\": \"Python\"}\n",
    "json_str = json.dumps(person, indent=2)  # dict → JSON\n",
    "print(json_str)"
   ]
  },
  {
   "cell_type": "code",
   "execution_count": 44,
   "id": "5aa1fda9-13cc-4cab-8087-51f792f26263",
   "metadata": {},
   "outputs": [],
   "source": [
    "# Explanation:\n",
    "\n",
    "# json.loads() → convert JSON string → Python dict.\n",
    "\n",
    "# json.dumps() → convert dict → JSON string."
   ]
  },
  {
   "cell_type": "code",
   "execution_count": 46,
   "id": "8e4aa2da-0942-49c4-a855-b4aa111c5af2",
   "metadata": {},
   "outputs": [
    {
     "name": "stdout",
     "output_type": "stream",
     "text": [
      "{'userId': 1, 'id': 1, 'title': 'sunt aut facere repellat provident occaecati excepturi optio reprehenderit', 'body': 'quia et suscipit\\nsuscipit recusandae consequuntur expedita et cum\\nreprehenderit molestiae ut ut quas totam\\nnostrum rerum est autem sunt rem eveniet architecto'}\n"
     ]
    }
   ],
   "source": [
    "#3. API Calls\n",
    "import requests\n",
    "url = \"https://jsonplaceholder.typicode.com/posts/1\"\n",
    "response = requests.get(url)\n",
    "print(response.json())"
   ]
  },
  {
   "cell_type": "code",
   "execution_count": null,
   "id": "aefc1fc2-b308-48ee-b310-5a72ce434f01",
   "metadata": {},
   "outputs": [],
   "source": [
    "# Explanation:\n",
    "\n",
    "# requests.get(url) → send request to API.\n",
    "\n",
    "# .json() → convert API response to Python dict."
   ]
  },
  {
   "cell_type": "code",
   "execution_count": null,
   "id": "a9b95faa-249f-4557-b504-472ddeed2eff",
   "metadata": {},
   "outputs": [],
   "source": []
  },
  {
   "cell_type": "code",
   "execution_count": null,
   "id": "e49fafb3-fe36-4076-91c4-d1d0b08d7bff",
   "metadata": {},
   "outputs": [],
   "source": []
  },
  {
   "cell_type": "code",
   "execution_count": null,
   "id": "49ae999c-cf27-4e65-9331-830d395ca0f7",
   "metadata": {},
   "outputs": [],
   "source": []
  },
  {
   "cell_type": "code",
   "execution_count": null,
   "id": "5e8581bf-5b43-4977-9a23-eddfcb420439",
   "metadata": {},
   "outputs": [],
   "source": []
  },
  {
   "cell_type": "code",
   "execution_count": null,
   "id": "a7567cc0-3fc4-47e2-a3cf-7f060fc9b19b",
   "metadata": {},
   "outputs": [],
   "source": []
  },
  {
   "cell_type": "code",
   "execution_count": null,
   "id": "45d7fa3e-e450-4509-bb67-f4e872c1bb7f",
   "metadata": {},
   "outputs": [],
   "source": []
  },
  {
   "cell_type": "code",
   "execution_count": null,
   "id": "930063d4-4099-4058-9bc6-080beb4b8652",
   "metadata": {},
   "outputs": [],
   "source": []
  },
  {
   "cell_type": "code",
   "execution_count": null,
   "id": "794890d7-74dc-4986-abb5-1362bbcc8d16",
   "metadata": {},
   "outputs": [],
   "source": []
  },
  {
   "cell_type": "code",
   "execution_count": null,
   "id": "1974d5f4-815a-414b-a29c-fbe00e5179a5",
   "metadata": {},
   "outputs": [],
   "source": []
  },
  {
   "cell_type": "code",
   "execution_count": null,
   "id": "adaf9c81-e0f5-4a36-8946-969ebccaadba",
   "metadata": {},
   "outputs": [],
   "source": []
  },
  {
   "cell_type": "code",
   "execution_count": null,
   "id": "1ee60438-f654-485d-95c4-968e45264ab7",
   "metadata": {},
   "outputs": [],
   "source": []
  },
  {
   "cell_type": "code",
   "execution_count": null,
   "id": "52e9124f-2e55-430f-bda2-5f1425a87159",
   "metadata": {},
   "outputs": [],
   "source": []
  }
 ],
 "metadata": {
  "kernelspec": {
   "display_name": "Python 3 (ipykernel)",
   "language": "python",
   "name": "python3"
  },
  "language_info": {
   "codemirror_mode": {
    "name": "ipython",
    "version": 3
   },
   "file_extension": ".py",
   "mimetype": "text/x-python",
   "name": "python",
   "nbconvert_exporter": "python",
   "pygments_lexer": "ipython3",
   "version": "3.12.7"
  }
 },
 "nbformat": 4,
 "nbformat_minor": 5
}
