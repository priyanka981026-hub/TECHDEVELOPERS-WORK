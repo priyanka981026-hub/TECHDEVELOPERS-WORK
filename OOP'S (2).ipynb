{
 "cells": [
  {
   "cell_type": "code",
   "execution_count": 1,
   "id": "1da41413-82cf-4085-a0a9-8ad8e58474d4",
   "metadata": {},
   "outputs": [],
   "source": [
    "# 2 APPROACHES OF PROGRAMMING\n",
    "# PROCEDURAL ORIENTIED PROGRAMMING  ABHI TAK PROGRAMMING CALLED PROCEDURAL ORIRNTIED PROGRAMMING.\n",
    "# OBJECT ORIENTIED PROGRAMMING"
   ]
  },
  {
   "cell_type": "code",
   "execution_count": 2,
   "id": "1a3cee6c-b124-4d7a-be74-58c41fb9e890",
   "metadata": {},
   "outputs": [],
   "source": [
    "# OOP'S (OBJECT ORIENTIED  PROGRAMMING) USED TO MAKE REAL LIFE APPLICATION .IT DECREASE LINE OF CODE\n",
    "# python is an object orirnted programming language. object orientation is a software development methodology(programming approach) that is based on \n",
    "# modeling a real-world system.\n",
    "# An object oriented program consists of classes and objects.\n",
    "\n",
    "# OOP'S CONCEPT IS BASED ON ------CLASS and OBJECTS\n"
   ]
  },
  {
   "cell_type": "code",
   "execution_count": 3,
   "id": "c285ad97-bfcf-42d5-86ee-419eee60650c",
   "metadata": {},
   "outputs": [],
   "source": [
    "# CLASS----IS A TEMPLATE/SKELETON/BLUEPRINT FOR CREATING AN OBJECT.\n",
    "# WE CAN CREATE MULTIPLE OBJECT'S OF ONE CLASS\n",
    "# two things are present in class---constructor and method"
   ]
  },
  {
   "cell_type": "code",
   "execution_count": 5,
   "id": "c3a4d4c7-dc21-4ce2-87bd-f6be7c739229",
   "metadata": {},
   "outputs": [],
   "source": [
    "# CONSTRUCTOR IS A SPECIAL METHOD\n",
    "# THE NAME OF THE CONSTRUCTOR SHOULD BE--INIT---\n",
    "# CONSTRUCTOR WIIL BE EXECUTED AT THE TIME OF OBJECT CREATION\n",
    "# THE MAIN PURPOSE OF CONSTRUCTOR IS TO DECLARE THE INSTANCE VARIABLES\n",
    "# PER OBJECT CREATION CONSTRUCTOR WILL BE EXECUTED ONLY ONCE.\n",
    "# CONSTRUCTOR CAN TAKE AT LEAST ONE ARGUMENT SELF."
   ]
  },
  {
   "cell_type": "code",
   "execution_count": 38,
   "id": "483ea359-b9f9-4bd8-a13c-21bf4f3544b4",
   "metadata": {},
   "outputs": [],
   "source": [
    "class person:\n",
    "    def __init__(self,name,age): # constructor ---it take parameter # constructor ka kam h variable ko declare karna.\n",
    "# wahi variable hamesha constructor mai bante h jiska acces hume user ko nhi dena  \n",
    "        print('address of self',id(self))\n",
    "        self.name=name\n",
    "        self.age=age\n",
    "        self.info('cricket')\n",
    "    def info(self,hobby):   # method --jo bhi function class ke ander banoge uske method bologe  ### jo bhi method hoga o hamesha object ke name se access\n",
    "        # kiya jayega    ## method mai  o variable bante h jiska acces hume user ko dena h.\n",
    "        print('My name is',self.name,'and my age is',self.age)\n",
    "        print('my hobby is',hobby)\n",
    "        \n",
    " # golden rule- aapke class ke ander jo bhi kuch likha h usko sirf object acces kar sakta h\n",
    "# self is an object\n",
    "    "
   ]
  },
  {
   "cell_type": "code",
   "execution_count": 39,
   "id": "f31ff679-d46f-4dad-b759-13b9944d8631",
   "metadata": {},
   "outputs": [
    {
     "name": "stdout",
     "output_type": "stream",
     "text": [
      "address of self 2424386453424\n",
      "My name is Deepanshu and my age is 23456\n",
      "my hobby is cricket\n"
     ]
    }
   ],
   "source": [
    "ob=person('Deepanshu',23456)\n",
    "#print('address of object',id(ob))"
   ]
  },
  {
   "cell_type": "code",
   "execution_count": 25,
   "id": "5a57c8f2-a31d-4387-9c78-f238f6752cc7",
   "metadata": {},
   "outputs": [
    {
     "name": "stdout",
     "output_type": "stream",
     "text": [
      "My name is Deepanshu and my age is 23456\n",
      "my hobby is absd\n"
     ]
    }
   ],
   "source": [
    "ob.info('absd')"
   ]
  },
  {
   "cell_type": "code",
   "execution_count": 26,
   "id": "f9be7da0-d48f-4e71-9772-4226f396469a",
   "metadata": {},
   "outputs": [
    {
     "name": "stdout",
     "output_type": "stream",
     "text": [
      "[1, 2, 3, 4, 5, 6]\n"
     ]
    }
   ],
   "source": [
    "l=[1,2,3,4,5]\n",
    "l.append(6)   # append is a method  and l is consider as a object.\n",
    "print(l)"
   ]
  },
  {
   "cell_type": "code",
   "execution_count": 27,
   "id": "76827fd8-df68-4930-9425-8db8056a781b",
   "metadata": {},
   "outputs": [],
   "source": [
    "l.clear()"
   ]
  },
  {
   "cell_type": "code",
   "execution_count": 28,
   "id": "8b77cc81-3af8-47c7-baa3-2b71066e2103",
   "metadata": {},
   "outputs": [
    {
     "name": "stdout",
     "output_type": "stream",
     "text": [
      "[]\n"
     ]
    }
   ],
   "source": [
    "print(l)"
   ]
  },
  {
   "cell_type": "code",
   "execution_count": 40,
   "id": "6aa8a79f-5964-4808-9905-f54cf951b673",
   "metadata": {},
   "outputs": [],
   "source": [
    "# PROPERTIES OF OOP'S\n",
    "# INHERITANCE\n",
    "# POLYMORPHISM\n",
    "# ENCAPUSLATION\n",
    "# ABSTRACTION"
   ]
  },
  {
   "cell_type": "code",
   "execution_count": null,
   "id": "5c2b96c7-a0db-4818-9630-31cfec0483aa",
   "metadata": {},
   "outputs": [],
   "source": [
    "#  INHERITANCE-IS THE PROPERTY IN WHICH ONE CLASS INHERITS THE  ATTRIBUTES AND METHODS OF ANOTHER CLASS.WHOSE PROPERTIES AND METHODS ARE INHERITED IS\n",
    "# KNOWN AS PARENT CLASS.AND THE CLASS THAT INHERITS THE PROPERTIES FROM THE PARENT CLASS IS THE CHILD CLASS."
   ]
  },
  {
   "cell_type": "code",
   "execution_count": 41,
   "id": "09ba297c-1f13-401d-aa97-b30d78eb1206",
   "metadata": {},
   "outputs": [],
   "source": [
    "# INHERITANCE INCREASE THE REUSABILITY OF CODE\n",
    "# TYPES OF INHERITANCE\n",
    "# SINGLE INHERITANCE ---ONE PARENT CLASS AND ONE CHILD CLASS."
   ]
  },
  {
   "cell_type": "code",
   "execution_count": 51,
   "id": "3092ea0e-7c71-4613-91a5-a739a29987a3",
   "metadata": {},
   "outputs": [],
   "source": [
    "#SINGLE INHERITANCE\n",
    "class Animal: # parent class\n",
    "    def __init__(self):\n",
    "        self.legs=int(input('enter lega'))\n",
    "        print('i am a parent class constructor')\n",
    "    def wild(self):\n",
    "        print('i am a parent class method')\n",
    "        print('wild animal has',self.legs,'legs') \n",
    "\n",
    "class lion(Animal): # child class\n",
    "    def __init__(self,country):\n",
    "        print('i am a child class constructor')\n",
    "        self.country=country\n",
    "        super().__init__()\n",
    "    def wild1(self):\n",
    "        super().wild()\n",
    "        print('i am a child class method')\n",
    "        print('lion origins is',self.country)\n",
    "\n",
    "\n",
    "        \n",
    "        "
   ]
  },
  {
   "cell_type": "code",
   "execution_count": 52,
   "id": "b0d5ad6b-ca7a-4ef2-a5f9-8453817c4ec3",
   "metadata": {},
   "outputs": [
    {
     "name": "stdout",
     "output_type": "stream",
     "text": [
      "i am a child class constructor\n"
     ]
    },
    {
     "name": "stdin",
     "output_type": "stream",
     "text": [
      "enter lega  4\n"
     ]
    },
    {
     "name": "stdout",
     "output_type": "stream",
     "text": [
      "i am a parent class constructor\n"
     ]
    }
   ],
   "source": [
    "li=lion('Africa')"
   ]
  },
  {
   "cell_type": "code",
   "execution_count": 53,
   "id": "dfc07e6a-32c8-49b3-9dde-1ef62f436a7f",
   "metadata": {},
   "outputs": [
    {
     "name": "stdout",
     "output_type": "stream",
     "text": [
      "i am a parent class method\n",
      "wild animal has 4 legs\n",
      "i am a child class method\n",
      "lion origins is Africa\n"
     ]
    }
   ],
   "source": [
    "li.wild1()"
   ]
  },
  {
   "cell_type": "code",
   "execution_count": 2,
   "id": "fd83577a-7b66-443e-bfd0-f6d17836b1e2",
   "metadata": {},
   "outputs": [
    {
     "name": "stdout",
     "output_type": "stream",
     "text": [
      "i am the Animal class constructor\n",
      "i am the Mammal class constructor\n",
      "i am the Dog class constructor\n",
      "i feed my young with milk\n",
      "i breathe air\n",
      "i can bark\n",
      "My breed is labradog\n"
     ]
    }
   ],
   "source": [
    "# Multilevel Inheritance\n",
    "# ex in this child class inherit the parent class and another child inherit the other child.\n",
    "class Animal:\n",
    "    def __init__(self):\n",
    "        print('i am the Animal class constructor')\n",
    "    def breathe(self):\n",
    "        print('i breathe air')\n",
    "\n",
    "class Mammal(Animal): # inherits from animal\n",
    "    def __init__(self):\n",
    "        super().__init__()\n",
    "        print('i am the Mammal class constructor')\n",
    "    def feed_milk(self):\n",
    "        print('i feed my young with milk')\n",
    "        super().breathe()\n",
    "class Dog(Mammal):  # inherits from mammal, which in turn inherits from Animal\n",
    "    def __init__(self, breed):\n",
    "        super().__init__()\n",
    "        self.breed = breed\n",
    "        print('i am the Dog class constructor')\n",
    "\n",
    "    def bark(self):\n",
    "        super().feed_milk()\n",
    "        print('i can bark')\n",
    "        print(f'My breed is {self.breed}')\n",
    "# example usage\n",
    "dog = Dog('labradog')\n",
    "dog.bark()                   # Defined in dog\n",
    "# dog.breathe()              # inherited from Animal\n",
    "#dog.feed_milk()              # inherited from mammal"
   ]
  },
  {
   "cell_type": "code",
   "execution_count": 63,
   "id": "d68c4ec5-7ab0-4a5c-896c-9c5a4a8bd766",
   "metadata": {},
   "outputs": [
    {
     "name": "stdout",
     "output_type": "stream",
     "text": [
      "i am a child class constructor\n"
     ]
    },
    {
     "name": "stdin",
     "output_type": "stream",
     "text": [
      "enter legs: 4\n"
     ]
    },
    {
     "name": "stdout",
     "output_type": "stream",
     "text": [
      "i am a parent class constructor\n",
      "i am a mammal class constructor\n",
      "i am a parent class method\n",
      "wild animal has 4 legs\n",
      "i am a child class method\n",
      "lion origin is Africa\n",
      "Mammal feed their young with milk\n"
     ]
    }
   ],
   "source": [
    "# MULTIPLE INHERITANCE\n",
    "# IN multiple inheritance, a class can inherit from more than one parent class.\n",
    "class Animal:\n",
    "    def __init__(self):\n",
    "        self.legs = int(input('enter legs:'))\n",
    "        print('i am a parent class constructor')\n",
    "    def wild(self):\n",
    "        print('i am a parent class method')\n",
    "        print('wild animal has', self.legs, 'legs')\n",
    "class Mammal:\n",
    "    def __init__(self):\n",
    "        self.blood_type = 'warm'\n",
    "        print('i am a mammal class constructor')\n",
    "    def feed(self):\n",
    "        print('Mammal feed their young with milk')\n",
    "\n",
    "class lion(Animal,Mammal):\n",
    "    def __init__(self,country):\n",
    "        print('i am a child class constructor')\n",
    "        self.country = country\n",
    "        Animal.__init__(self)\n",
    "        Mammal.__init__(self)\n",
    "\n",
    "    def wild1(self):\n",
    "        Animal.wild(self)\n",
    "        print('i am a child class method')\n",
    "        print('lion origin is', self.country)\n",
    "        self.feed()\n",
    "\n",
    "# example usage\n",
    "lion = lion('Africa')\n",
    "lion.wild1()      "
   ]
  },
  {
   "cell_type": "code",
   "execution_count": 67,
   "id": "0ab3fba3-a2f1-4a8c-9161-3539b4b88c80",
   "metadata": {},
   "outputs": [
    {
     "name": "stdout",
     "output_type": "stream",
     "text": [
      "i am a lion constructor\n"
     ]
    },
    {
     "name": "stdin",
     "output_type": "stream",
     "text": [
      "enter legs  4\n"
     ]
    },
    {
     "name": "stdout",
     "output_type": "stream",
     "text": [
      "i am a parent class constructor\n",
      "i am a parent class method\n",
      "wild animal has 4 legs\n",
      "i am a lion method\n",
      "lion origin is Africa\n",
      "i am a Tiger constructor\n"
     ]
    },
    {
     "name": "stdin",
     "output_type": "stream",
     "text": [
      "enter legs  4\n"
     ]
    },
    {
     "name": "stdout",
     "output_type": "stream",
     "text": [
      "i am a parent class constructor\n",
      "i am a parent class method\n",
      "wild animal has 4 legs\n",
      "i am a Tiger method\n",
      "Tiger has 20 stripes\n"
     ]
    }
   ],
   "source": [
    "# In hierarchical inheritance, multiple child classes inherit from a single parent class.\n",
    "class Animal:\n",
    "    def __init__(self):\n",
    "        self.legs = int(input('enter legs'))\n",
    "        print('i am a parent class constructor')\n",
    "    def wild(self):\n",
    "        print('i am a parent class method')\n",
    "        print('wild animal has', self.legs, 'legs')\n",
    "class lion(Animal):\n",
    "    def __init__(self, country):\n",
    "        print('i am a lion constructor')\n",
    "        self.country = country\n",
    "        super().__init__()\n",
    "    def wild1(self):\n",
    "        super().wild()\n",
    "        print('i am a lion method')\n",
    "        print('lion origin is', self.country)\n",
    "\n",
    "class Tiger(Animal):\n",
    "    def __init__(self, stripes):\n",
    "        print('i am a Tiger constructor')\n",
    "        self.stripes = stripes\n",
    "        super().__init__()\n",
    "    def wild2(self):\n",
    "        super().wild()\n",
    "        print('i am a Tiger method')\n",
    "        print('Tiger has', self.stripes, 'stripes')\n",
    "\n",
    "# example usage\n",
    "lion = lion('Africa')\n",
    "lion.wild1()\n",
    "\n",
    "tiger = Tiger(20)\n",
    "tiger.wild2()\n",
    "\n",
    "        \n",
    "        "
   ]
  },
  {
   "cell_type": "markdown",
   "id": "c7be706b-4a69-45fa-bb0f-f62966c0dc5a",
   "metadata": {},
   "source": [
    "# ENCAPSULATION"
   ]
  },
  {
   "cell_type": "code",
   "execution_count": null,
   "id": "d517bd21-da57-4d62-84d6-f7d41c530f96",
   "metadata": {},
   "outputs": [],
   "source": [
    "# ENCAPSULATION---IN PYTHON IS A PROCESS OF WRAPPING CODE AND DATA TOGETHER INTO A SINGLE UNIT.WHICH MEANS IT IS A WAY TO ENSURE SECURITY\n",
    "# BASICALLY IT HIDES THE VARIABLE FROM THE ACCESS OUTSIDER'S BY USING SINGLE_(UNDERSCORE) BEFORE THE VARIABLE NAME TO MAKE IT PROTECTED AND\n",
    "# _(DOUBLE UNDERSCORE) BEFORE THE VARIABLE TO MAKE IT PRIVATE."
   ]
  },
  {
   "cell_type": "code",
   "execution_count": 72,
   "id": "2f5f8387-c372-440d-8503-1c242ab8f50d",
   "metadata": {},
   "outputs": [],
   "source": [
    "class Bank:\n",
    "    def __init__(self,bal,depo,withd):\n",
    "        self._bal=bal # protected\n",
    "        self.depo=depo # public\n",
    "        self.__withd=withd # private\n",
    "    def action(self):\n",
    "        print('My bal is',self._bal)\n",
    "        print('My deposit amount is',self.depo)\n",
    "        print('i have to withdrawl',self.__withd)"
   ]
  },
  {
   "cell_type": "code",
   "execution_count": 73,
   "id": "e803f71c-bc99-4413-a55a-5c792dcda1ca",
   "metadata": {},
   "outputs": [],
   "source": [
    "sbi=Bank(1000,500,200)"
   ]
  },
  {
   "cell_type": "code",
   "execution_count": 74,
   "id": "6d6d3d58-7094-4c93-a2f0-fa86bca95dc3",
   "metadata": {},
   "outputs": [
    {
     "name": "stdout",
     "output_type": "stream",
     "text": [
      "My bal is 1000\n",
      "My deposit amount is 500\n",
      "i have to withdrawl 200\n"
     ]
    }
   ],
   "source": [
    "sbi.action()\n"
   ]
  },
  {
   "cell_type": "code",
   "execution_count": 75,
   "id": "44158274-2f76-479f-a724-d499d250ff3e",
   "metadata": {},
   "outputs": [
    {
     "data": {
      "text/plain": [
       "1000"
      ]
     },
     "execution_count": 75,
     "metadata": {},
     "output_type": "execute_result"
    }
   ],
   "source": [
    "sbi._bal"
   ]
  },
  {
   "cell_type": "code",
   "execution_count": 76,
   "id": "0dd3e9c9-4342-495b-97f1-84e8ac577077",
   "metadata": {},
   "outputs": [
    {
     "data": {
      "text/plain": [
       "500"
      ]
     },
     "execution_count": 76,
     "metadata": {},
     "output_type": "execute_result"
    }
   ],
   "source": [
    "sbi.depo"
   ]
  },
  {
   "cell_type": "code",
   "execution_count": 77,
   "id": "da013af7-950c-4fae-a520-ff5bcbd0d680",
   "metadata": {},
   "outputs": [
    {
     "ename": "AttributeError",
     "evalue": "'Bank' object has no attribute '__withd'",
     "output_type": "error",
     "traceback": [
      "\u001b[31m---------------------------------------------------------------------------\u001b[39m",
      "\u001b[31mAttributeError\u001b[39m                            Traceback (most recent call last)",
      "\u001b[36mCell\u001b[39m\u001b[36m \u001b[39m\u001b[32mIn[77]\u001b[39m\u001b[32m, line 1\u001b[39m\n\u001b[32m----> \u001b[39m\u001b[32m1\u001b[39m sbi.__withd\n",
      "\u001b[31mAttributeError\u001b[39m: 'Bank' object has no attribute '__withd'"
     ]
    }
   ],
   "source": [
    "sbi.__withd"
   ]
  },
  {
   "cell_type": "code",
   "execution_count": 78,
   "id": "93c3efc3-587a-498e-ac9f-ff8b4665cf4a",
   "metadata": {},
   "outputs": [
    {
     "name": "stdout",
     "output_type": "stream",
     "text": [
      "200\n"
     ]
    }
   ],
   "source": [
    "print(sbi._Bank__withd) # name mangling"
   ]
  },
  {
   "cell_type": "code",
   "execution_count": 79,
   "id": "955fd116-e1ce-4867-bae3-f1c5bc47fa69",
   "metadata": {},
   "outputs": [],
   "source": [
    "S='APPLE'"
   ]
  },
  {
   "cell_type": "code",
   "execution_count": 81,
   "id": "523b9887-d0cb-4c6e-8aec-37481472a1a0",
   "metadata": {},
   "outputs": [
    {
     "data": {
      "text/plain": [
       "['__add__',\n",
       " '__class__',\n",
       " '__contains__',\n",
       " '__delattr__',\n",
       " '__dir__',\n",
       " '__doc__',\n",
       " '__eq__',\n",
       " '__format__',\n",
       " '__ge__',\n",
       " '__getattribute__',\n",
       " '__getitem__',\n",
       " '__getnewargs__',\n",
       " '__getstate__',\n",
       " '__gt__',\n",
       " '__hash__',\n",
       " '__init__',\n",
       " '__init_subclass__',\n",
       " '__iter__',\n",
       " '__le__',\n",
       " '__len__',\n",
       " '__lt__',\n",
       " '__mod__',\n",
       " '__mul__',\n",
       " '__ne__',\n",
       " '__new__',\n",
       " '__reduce__',\n",
       " '__reduce_ex__',\n",
       " '__repr__',\n",
       " '__rmod__',\n",
       " '__rmul__',\n",
       " '__setattr__',\n",
       " '__sizeof__',\n",
       " '__str__',\n",
       " '__subclasshook__',\n",
       " 'capitalize',\n",
       " 'casefold',\n",
       " 'center',\n",
       " 'count',\n",
       " 'encode',\n",
       " 'endswith',\n",
       " 'expandtabs',\n",
       " 'find',\n",
       " 'format',\n",
       " 'format_map',\n",
       " 'index',\n",
       " 'isalnum',\n",
       " 'isalpha',\n",
       " 'isascii',\n",
       " 'isdecimal',\n",
       " 'isdigit',\n",
       " 'isidentifier',\n",
       " 'islower',\n",
       " 'isnumeric',\n",
       " 'isprintable',\n",
       " 'isspace',\n",
       " 'istitle',\n",
       " 'isupper',\n",
       " 'join',\n",
       " 'ljust',\n",
       " 'lower',\n",
       " 'lstrip',\n",
       " 'maketrans',\n",
       " 'partition',\n",
       " 'removeprefix',\n",
       " 'removesuffix',\n",
       " 'replace',\n",
       " 'rfind',\n",
       " 'rindex',\n",
       " 'rjust',\n",
       " 'rpartition',\n",
       " 'rsplit',\n",
       " 'rstrip',\n",
       " 'split',\n",
       " 'splitlines',\n",
       " 'startswith',\n",
       " 'strip',\n",
       " 'swapcase',\n",
       " 'title',\n",
       " 'translate',\n",
       " 'upper',\n",
       " 'zfill']"
      ]
     },
     "execution_count": 81,
     "metadata": {},
     "output_type": "execute_result"
    }
   ],
   "source": [
    "dir(S)"
   ]
  },
  {
   "cell_type": "code",
   "execution_count": 82,
   "id": "8da7c6ac-8556-4e2a-87b8-32976665776e",
   "metadata": {},
   "outputs": [
    {
     "data": {
      "text/plain": [
       "['_Bank__withd',\n",
       " '__class__',\n",
       " '__delattr__',\n",
       " '__dict__',\n",
       " '__dir__',\n",
       " '__doc__',\n",
       " '__eq__',\n",
       " '__format__',\n",
       " '__ge__',\n",
       " '__getattribute__',\n",
       " '__getstate__',\n",
       " '__gt__',\n",
       " '__hash__',\n",
       " '__init__',\n",
       " '__init_subclass__',\n",
       " '__le__',\n",
       " '__lt__',\n",
       " '__module__',\n",
       " '__ne__',\n",
       " '__new__',\n",
       " '__reduce__',\n",
       " '__reduce_ex__',\n",
       " '__repr__',\n",
       " '__setattr__',\n",
       " '__sizeof__',\n",
       " '__str__',\n",
       " '__subclasshook__',\n",
       " '__weakref__',\n",
       " '_bal',\n",
       " 'action',\n",
       " 'depo']"
      ]
     },
     "execution_count": 82,
     "metadata": {},
     "output_type": "execute_result"
    }
   ],
   "source": [
    "dir(sbi)"
   ]
  },
  {
   "cell_type": "markdown",
   "id": "d22a2248-b11a-4197-bb02-24677722fa17",
   "metadata": {},
   "source": [
    "# POLYMORPHISM"
   ]
  },
  {
   "cell_type": "code",
   "execution_count": null,
   "id": "59d1f079-f90d-489f-b9d4-aa846efc6eef",
   "metadata": {},
   "outputs": [],
   "source": [
    "# THE WORD POLY MEANS MANY AND MORPH MEAN'S FORM.WHICH MEANS PLOYMORPHISM IS THE ABILITY OF ANY DATA TO BE PROCESSESED IN  MORE THAN ONE FORM."
   ]
  },
  {
   "cell_type": "code",
   "execution_count": null,
   "id": "01a717be-4e33-41f1-82a3-f81775c2d2ea",
   "metadata": {},
   "outputs": [],
   "source": [
    "# EK KAM KO KARNE KE BHAUT METHODS"
   ]
  },
  {
   "cell_type": "code",
   "execution_count": 88,
   "id": "190e50f3-469b-4eab-bdf5-d2a292142893",
   "metadata": {},
   "outputs": [],
   "source": [
    "class Tomato:\n",
    "    def __init__(self):\n",
    "        print('this is a tomato class constructor')\n",
    "    def color(self):\n",
    "        print('tomato is orange in color')\n",
    "    def category(self):\n",
    "        print('tomato is vegetable')\n",
    "class Apple:\n",
    "    def __init__(self):\n",
    "        print('this is a apple class')\n",
    "    def color(self):\n",
    "        print('Apple is red in color')\n",
    "    def category(self):\n",
    "        print('Apple is fruit')"
   ]
  },
  {
   "cell_type": "code",
   "execution_count": 89,
   "id": "fe426a25-2bad-4d2c-944b-4420206fbea1",
   "metadata": {},
   "outputs": [
    {
     "name": "stdout",
     "output_type": "stream",
     "text": [
      "this is a tomato class constructor\n",
      "tomato is orange in color\n",
      "tomato is vegetable\n"
     ]
    }
   ],
   "source": [
    "tom = Tomato()\n",
    "tom.color()\n",
    "tom.category()"
   ]
  },
  {
   "cell_type": "code",
   "execution_count": 87,
   "id": "eae3cae8-56eb-4e22-bfe5-aaf6c492bca8",
   "metadata": {},
   "outputs": [
    {
     "name": "stdout",
     "output_type": "stream",
     "text": [
      "this is a apple class\n",
      "Apple is red in color\n",
      "Apple is fruit\n"
     ]
    }
   ],
   "source": [
    "app=Apple()\n",
    "app.color()\n",
    "app.category()"
   ]
  },
  {
   "cell_type": "code",
   "execution_count": 90,
   "id": "62ecb1f6-9468-4f83-b7b7-4d54cfb5205e",
   "metadata": {},
   "outputs": [],
   "source": [
    "# overloading\n",
    "# same method name with different class arguments in same class.\n",
    "# python does not follow overloading.\n",
    "class c2:\n",
    "    def abc(self,a,b):\n",
    "        print(a+b)\n",
    "        print('hello')\n",
    "    def abc(self,a,b):\n",
    "        print(a*b)\n",
    "        print('hiii')"
   ]
  },
  {
   "cell_type": "code",
   "execution_count": 91,
   "id": "0d955155-baff-4c76-9f5c-024e83d8a519",
   "metadata": {},
   "outputs": [
    {
     "name": "stdout",
     "output_type": "stream",
     "text": [
      "6\n",
      "hiii\n"
     ]
    }
   ],
   "source": [
    "ob2=c2()\n",
    "ob2.abc(2,3)"
   ]
  },
  {
   "cell_type": "code",
   "execution_count": 96,
   "id": "d12f7251-fccb-46e9-b879-b0cbc113b220",
   "metadata": {},
   "outputs": [],
   "source": [
    "# overiding\n",
    "# same method name with different arguments with different class.\n",
    "class Tomato:\n",
    "    def color(self,price):\n",
    "        print('tomato is orange and its price is',price)\n",
    "\n",
    "class Apple(Tomato):\n",
    "    def color(self,price,origin):\n",
    "        super().color(100)\n",
    "        print('apple is red in color and its price is',price,'and its origin is',origin)"
   ]
  },
  {
   "cell_type": "code",
   "execution_count": 99,
   "id": "47106a3d-026e-4071-814e-61c5e88b4135",
   "metadata": {},
   "outputs": [],
   "source": [
    "to=Tomato()\n",
    "app=Apple()"
   ]
  },
  {
   "cell_type": "code",
   "execution_count": 100,
   "id": "255ab591-f95f-428c-a21b-4224b816e392",
   "metadata": {},
   "outputs": [
    {
     "name": "stdout",
     "output_type": "stream",
     "text": [
      "tomato is orange and its price is 100\n"
     ]
    }
   ],
   "source": [
    "to.color(100)"
   ]
  },
  {
   "cell_type": "code",
   "execution_count": 101,
   "id": "cba9c9dd-e7e1-41dd-8c79-a4a121080238",
   "metadata": {},
   "outputs": [
    {
     "name": "stdout",
     "output_type": "stream",
     "text": [
      "tomato is orange and its price is 100\n",
      "apple is red in color and its price is 50 and its origin is india\n"
     ]
    }
   ],
   "source": [
    "app.color(50,'india')"
   ]
  },
  {
   "cell_type": "code",
   "execution_count": 102,
   "id": "ba17d90f-19ef-45d5-bf72-91f97930f219",
   "metadata": {},
   "outputs": [],
   "source": [
    "# overiding\n",
    "class c1:\n",
    "    def abc(self,a,b):\n",
    "        print(a+b)\n",
    "        print('hello')\n",
    "\n",
    "class c3(c1):\n",
    "    def abc(self,a,b):\n",
    "        super().abc(5,9)\n",
    "        print(a*b)\n",
    "        print('hiii')"
   ]
  },
  {
   "cell_type": "code",
   "execution_count": 104,
   "id": "cea86c0c-556f-4c0f-83e4-0bb1a77c36dd",
   "metadata": {},
   "outputs": [
    {
     "name": "stdout",
     "output_type": "stream",
     "text": [
      "14\n",
      "hello\n",
      "6\n",
      "hiii\n"
     ]
    }
   ],
   "source": [
    "C=c3()\n",
    "C.abc(2,3)"
   ]
  },
  {
   "cell_type": "code",
   "execution_count": 105,
   "id": "d3151707-eae7-45ae-a676-95bf48ab5bbc",
   "metadata": {},
   "outputs": [],
   "source": [
    "# overiding used in python\n",
    "s='ant'\n",
    "L=['a','n','t']   # classes are different but  methods are present in all three  and methods are same called polymorphism..\n",
    "t='a','n','t'"
   ]
  },
  {
   "cell_type": "code",
   "execution_count": 106,
   "id": "5157179f-ed59-4adb-9f01-30d46abfac32",
   "metadata": {},
   "outputs": [
    {
     "name": "stdout",
     "output_type": "stream",
     "text": [
      "0\n",
      "0\n",
      "0\n"
     ]
    }
   ],
   "source": [
    "print(s.index('a'))\n",
    "print(L.index('a'))\n",
    "print(t.index('a'))"
   ]
  },
  {
   "cell_type": "code",
   "execution_count": null,
   "id": "6388e2ad-6d69-4901-98e4-4972c36dca89",
   "metadata": {},
   "outputs": [],
   "source": [
    "# Abstraction  --in abstraction we hide parent class ---by me BY ABSTRACTION WE HIDES THE ABSTRACT CLASS.\n",
    "# Abstraction---in python is defined as a process of handling complexity by hiding unnecessary details from the user.which means we hides the internal\n",
    "# functionality of the function from the users or we can say that we just hides the class from abstraction method.\n",
    "\n"
   ]
  },
  {
   "cell_type": "code",
   "execution_count": 111,
   "id": "8eeab1b4-cbf2-481f-9091-dfe2cfb724eb",
   "metadata": {},
   "outputs": [],
   "source": [
    "from abc import ABC, abstractmethod # Abstract base class\n",
    "class shape(ABC):\n",
    "    def __int__(self):\n",
    "        print('i am a parent class const')\n",
    "    @abstractmethod\n",
    "    def area(self):\n",
    "        pass\n",
    "        #print('it is a area method')\n",
    "    @abstractmethod\n",
    "    def perimeter(self):\n",
    "        pass\n",
    "        # print('it is a perimeter method')\n",
    "\n",
    "\n",
    "\n",
    "class square(shape):   # child class ke pas o sare methods hone chahiye jo parent class ke pas h ##child class inherit parent class\n",
    "    def __init__(self,s):\n",
    "        self.side=s\n",
    "    def area(self):\n",
    "        return self.side*self.side\n",
    "    def perimeter(self):\n",
    "        return 4*self.side\n",
    "    def display(self):\n",
    "        print('hiiii')\n",
    "        \n",
    "    "
   ]
  },
  {
   "cell_type": "code",
   "execution_count": 114,
   "id": "b4012a26-43a0-4e9e-9813-593b55d4353b",
   "metadata": {},
   "outputs": [
    {
     "ename": "TypeError",
     "evalue": "Can't instantiate abstract class shape without an implementation for abstract methods 'area', 'perimeter'",
     "output_type": "error",
     "traceback": [
      "\u001b[31m---------------------------------------------------------------------------\u001b[39m",
      "\u001b[31mTypeError\u001b[39m                                 Traceback (most recent call last)",
      "\u001b[36mCell\u001b[39m\u001b[36m \u001b[39m\u001b[32mIn[114]\u001b[39m\u001b[32m, line 1\u001b[39m\n\u001b[32m----> \u001b[39m\u001b[32m1\u001b[39m s=shape()\n",
      "\u001b[31mTypeError\u001b[39m: Can't instantiate abstract class shape without an implementation for abstract methods 'area', 'perimeter'"
     ]
    }
   ],
   "source": [
    "s=shape()"
   ]
  },
  {
   "cell_type": "code",
   "execution_count": 112,
   "id": "41ed3e9d-0df9-49b5-8cdb-43a8fce9287b",
   "metadata": {},
   "outputs": [
    {
     "data": {
      "text/plain": [
       "16"
      ]
     },
     "execution_count": 112,
     "metadata": {},
     "output_type": "execute_result"
    }
   ],
   "source": [
    "sq=square(4) # square is a child class.\n",
    "sq.area()\n",
    "# sq.display()"
   ]
  },
  {
   "cell_type": "code",
   "execution_count": 113,
   "id": "56446633-2d91-4b91-ab75-cfe8dd30075a",
   "metadata": {},
   "outputs": [
    {
     "name": "stdout",
     "output_type": "stream",
     "text": [
      "hiiii\n"
     ]
    }
   ],
   "source": [
    "sq.display()"
   ]
  },
  {
   "cell_type": "code",
   "execution_count": 108,
   "id": "74f6ace7-b5e6-4a79-b000-413712bca7d0",
   "metadata": {},
   "outputs": [],
   "source": [
    "class shape:  # parent class\n",
    "    def area(self):\n",
    "        pass\n",
    "    def perimeter (self):\n",
    "        pass"
   ]
  },
  {
   "cell_type": "code",
   "execution_count": 109,
   "id": "f8792c80-85e5-4eab-8947-c9e11b9a5d16",
   "metadata": {},
   "outputs": [],
   "source": [
    "class square(shape): # child class   it inherit  shape name class\n",
    "    def __init__(self,s):\n",
    "        self.side=s"
   ]
  },
  {
   "cell_type": "code",
   "execution_count": 110,
   "id": "ed8eba29-6a55-49b0-ac64-d7b8e0ac9ae3",
   "metadata": {},
   "outputs": [],
   "source": [
    "s=square(5)  # object"
   ]
  },
  {
   "cell_type": "code",
   "execution_count": null,
   "id": "f7f5290d-20e5-4f2b-ab0f-77f349f0196e",
   "metadata": {},
   "outputs": [],
   "source": [
    "sh=square() # object of parent class"
   ]
  },
  {
   "cell_type": "markdown",
   "id": "c215fdb5-eb48-43b0-9723-5dab81957a43",
   "metadata": {},
   "source": [
    "# Project: Inventory Management System"
   ]
  },
  {
   "cell_type": "code",
   "execution_count": null,
   "id": "46b2ef6e-2404-4021-ac2a-f08ba819b3ec",
   "metadata": {},
   "outputs": [],
   "source": [
    "#  Objective:\n",
    "# To build a simple command-line-based inventory system to manage products, stock levels, and transactions using Object-Oriented Programming in Python."
   ]
  },
  {
   "cell_type": "code",
   "execution_count": 17,
   "id": "4d050118-1135-439d-bbdf-c49fba6e2df7",
   "metadata": {},
   "outputs": [
    {
     "name": "stdout",
     "output_type": "stream",
     "text": [
      "\n",
      "1. Add Product\n",
      "2. view Inventory\n",
      "3. Exit\n"
     ]
    },
    {
     "name": "stdin",
     "output_type": "stream",
     "text": [
      "choose  3\n"
     ]
    },
    {
     "name": "stdout",
     "output_type": "stream",
     "text": [
      "invalid choice.\n",
      "\n",
      "1. Add Product\n",
      "2. view Inventory\n",
      "3. Exit\n"
     ]
    },
    {
     "name": "stdin",
     "output_type": "stream",
     "text": [
      "choose 3\n"
     ]
    }
   ],
   "source": [
    "#1. Product Class\n",
    "class product:\n",
    "    def __init__(self,product_id,name,price,quantity):\n",
    "        self.name = name\n",
    "        self.price = price\n",
    "        self.quantity = quantity\n",
    "    def __str__(self):\n",
    "        return f\"{self.name} - ₹{self.price} - Quantity: {self.quantity}\"\n",
    "class Inventory:\n",
    "    def __init__(self):\n",
    "        self.items = []\n",
    "    def add_product(self, product):\n",
    "        self.items.append(product)\n",
    "    def show_inventory(self): \n",
    "        print(\"\\nInventory:\")\n",
    "        for item in self.items:\n",
    "            print(item)\n",
    " # MAIN\n",
    "inv = Inventory()\n",
    "while True:\n",
    "    print(\"\\n1. Add Product\\n2. view Inventory\\n3. Exit\")\n",
    "    ch = input (\"choose\")\n",
    "    if ch == \"1\":\n",
    "        name = input(\"Product name:\")\n",
    "        price = float(input(\"price:\"))\n",
    "        quantity = int(input(\"quantity:\"))\n",
    "        P = product(name,price,quantity)\n",
    "        inv.add_product(P)\n",
    "    elif ch == \"2\":\n",
    "        inv.show_inventory()\n",
    "    elif ch == \"3\":\n",
    "        break\n",
    "    else:\n",
    "        print(\"invalid choice.\")\n",
    "        \n",
    "            \n"
   ]
  },
  {
   "cell_type": "code",
   "execution_count": null,
   "id": "6612fab3-d5d6-4535-b6e8-6cb82ed5353d",
   "metadata": {},
   "outputs": [],
   "source": []
  },
  {
   "cell_type": "code",
   "execution_count": null,
   "id": "32d01a81-f339-4a9a-826b-59c92adb6319",
   "metadata": {},
   "outputs": [],
   "source": []
  },
  {
   "cell_type": "code",
   "execution_count": null,
   "id": "b1b6de4f-8a86-4467-9fc9-06f3f0c84e84",
   "metadata": {},
   "outputs": [],
   "source": []
  }
 ],
 "metadata": {
  "kernelspec": {
   "display_name": "Python 3 (ipykernel)",
   "language": "python",
   "name": "python3"
  },
  "language_info": {
   "codemirror_mode": {
    "name": "ipython",
    "version": 3
   },
   "file_extension": ".py",
   "mimetype": "text/x-python",
   "name": "python",
   "nbconvert_exporter": "python",
   "pygments_lexer": "ipython3",
   "version": "3.12.7"
  }
 },
 "nbformat": 4,
 "nbformat_minor": 5
}
