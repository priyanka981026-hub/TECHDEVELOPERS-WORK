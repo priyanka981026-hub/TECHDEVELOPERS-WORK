{
 "cells": [
  {
   "cell_type": "code",
   "execution_count": 1,
   "id": "a34643c8-ce15-4f80-82db-d3aa298a3f5a",
   "metadata": {},
   "outputs": [
    {
     "name": "stdin",
     "output_type": "stream",
     "text": [
      "Enter your age:  18\n"
     ]
    },
    {
     "name": "stdout",
     "output_type": "stream",
     "text": [
      "you are Adult\n"
     ]
    }
   ],
   "source": [
    "#1.] if-else statements\n",
    "age = int(input(\"Enter your age:\"))\n",
    "if age >= 18:\n",
    "    print(\"you are Adult\")\n",
    "else:\n",
    "    print(\"you are minor\")\n"
   ]
  },
  {
   "cell_type": "code",
   "execution_count": 3,
   "id": "e72b9f76-b857-404b-bad3-8168eae8b13d",
   "metadata": {},
   "outputs": [
    {
     "name": "stdout",
     "output_type": "stream",
     "text": [
      "1\n",
      "2\n",
      "3\n",
      "4\n",
      "5\n"
     ]
    }
   ],
   "source": [
    "# For loops\n",
    "for i in range(1, 6):\n",
    "    print(i)"
   ]
  },
  {
   "cell_type": "code",
   "execution_count": 5,
   "id": "427380c9-09c7-48f3-a554-e1a4419ddfe3",
   "metadata": {},
   "outputs": [
    {
     "name": "stdout",
     "output_type": "stream",
     "text": [
      "1\n",
      "2\n",
      "3\n",
      "4\n",
      "5\n"
     ]
    }
   ],
   "source": [
    "# 3.]while loop\n",
    "i = 1\n",
    "while i<= 5:\n",
    "    print(i)\n",
    "    i += 1"
   ]
  },
  {
   "cell_type": "code",
   "execution_count": 7,
   "id": "c7948d7d-a397-4f9a-a06c-66c9e3d2ecf4",
   "metadata": {},
   "outputs": [
    {
     "name": "stdout",
     "output_type": "stream",
     "text": [
      "1\n",
      "2\n",
      "3\n",
      "4\n"
     ]
    }
   ],
   "source": [
    "# 4.]BREAK ,CONTINUE,PASS\n",
    "# BREAK\n",
    "for i in range(1, 10):\n",
    "    if i == 5:\n",
    "        break\n",
    "    print(i)      # stops loop when i== 5\n"
   ]
  },
  {
   "cell_type": "code",
   "execution_count": 9,
   "id": "887e02c3-15ad-4131-a50d-70fc0c14e20b",
   "metadata": {},
   "outputs": [],
   "source": [
    "#continue\n",
    "for i in range(1, 10):\n",
    "    if i == 3:\n",
    "        continue    # skips i == 3,continues loop"
   ]
  },
  {
   "cell_type": "code",
   "execution_count": 11,
   "id": "f6ea81cf-1ac7-4f8b-9a8b-6a59615c56fc",
   "metadata": {},
   "outputs": [
    {
     "name": "stdout",
     "output_type": "stream",
     "text": [
      "0\n",
      "1\n",
      "2\n",
      "3\n",
      "4\n"
     ]
    }
   ],
   "source": [
    "# Pass\n",
    "for i in range(5):\n",
    "    if i == 3:\n",
    "        pass   #placeholder\n",
    "    print(i)  "
   ]
  },
  {
   "cell_type": "code",
   "execution_count": 13,
   "id": "33440367-ed63-4fd3-b28e-92991ef0016d",
   "metadata": {},
   "outputs": [
    {
     "name": "stdout",
     "output_type": "stream",
     "text": [
      "2\n",
      "4\n",
      "6\n",
      "8\n",
      "10\n"
     ]
    }
   ],
   "source": [
    "# 5.]Range()function\n",
    "#range(start,stop,step)\n",
    "for i in range(2, 11, 2):\n",
    "    print(i)\n",
    "    "
   ]
  },
  {
   "cell_type": "markdown",
   "id": "7eaf5d35-0202-4f9c-b6c0-0679971b1861",
   "metadata": {},
   "source": [
    "### practice problem¶"
   ]
  },
  {
   "cell_type": "code",
   "execution_count": 15,
   "id": "6c7c8676-2365-48be-a9e8-1f7198c64b46",
   "metadata": {},
   "outputs": [
    {
     "name": "stdin",
     "output_type": "stream",
     "text": [
      "Enter a number:  4\n"
     ]
    },
    {
     "name": "stdout",
     "output_type": "stream",
     "text": [
      "Even\n"
     ]
    }
   ],
   "source": [
    "# 1.]check even or odd\n",
    "n = int(input(\"Enter a number:\"))\n",
    "if n % 2 == 0:\n",
    "    print(\"Even\")\n",
    "else:\n",
    "    (\"odd\")"
   ]
  },
  {
   "cell_type": "code",
   "execution_count": 18,
   "id": "afe6ee3c-03f4-47b4-a80c-093ded1d602f",
   "metadata": {},
   "outputs": [
    {
     "name": "stdin",
     "output_type": "stream",
     "text": [
      "Enter a number:  19\n"
     ]
    },
    {
     "name": "stdout",
     "output_type": "stream",
     "text": [
      "19 x 1 = 19\n",
      "19 x 2 = 38\n",
      "19 x 3 = 57\n",
      "19 x 4 = 76\n",
      "19 x 5 = 95\n",
      "19 x 6 = 114\n",
      "19 x 7 = 133\n",
      "19 x 8 = 152\n",
      "19 x 9 = 171\n",
      "19 x 10 = 190\n"
     ]
    }
   ],
   "source": [
    "#2']Print multiplication table\n",
    "n = int(input(\"Enter a number:\"))\n",
    "for i in range(1, 11):\n",
    "    print(n,\"x\",i, \"=\", n*i)\n"
   ]
  },
  {
   "cell_type": "code",
   "execution_count": 20,
   "id": "4bf88a4f-7f4b-4052-b4e7-066511e87f8c",
   "metadata": {},
   "outputs": [
    {
     "name": "stdout",
     "output_type": "stream",
     "text": [
      "1\n",
      "2\n",
      "3\n",
      "4\n",
      "5\n",
      "6\n",
      "7\n",
      "8\n",
      "9\n",
      "10\n"
     ]
    }
   ],
   "source": [
    "# print first 10 natural numbers using while loop\n",
    "i = 1\n",
    "while i <= 10:\n",
    "    print(i)\n",
    "    i += 1"
   ]
  },
  {
   "cell_type": "code",
   "execution_count": 22,
   "id": "e7b66260-c24d-4243-8840-bf1993d545e8",
   "metadata": {},
   "outputs": [
    {
     "name": "stdout",
     "output_type": "stream",
     "text": [
      "2\n",
      "4\n",
      "6\n",
      "8\n",
      "10\n",
      "12\n",
      "14\n",
      "16\n",
      "18\n",
      "20\n"
     ]
    }
   ],
   "source": [
    "# print all even numbers from 1 to 20\n",
    "for i in range(1, 21):\n",
    "   if i % 2 == 0:\n",
    "       print(i)\n",
    "\n",
    " "
   ]
  },
  {
   "cell_type": "code",
   "execution_count": 24,
   "id": "e100541a-0580-438a-945a-7115f5b22f3f",
   "metadata": {},
   "outputs": [
    {
     "name": "stdout",
     "output_type": "stream",
     "text": [
      "sum = 1\n",
      "sum = 3\n",
      "sum = 6\n",
      "sum = 10\n",
      "sum = 15\n",
      "sum = 21\n",
      "sum = 28\n",
      "sum = 36\n",
      "sum = 45\n",
      "sum = 55\n",
      "sum = 66\n",
      "sum = 78\n",
      "sum = 91\n",
      "sum = 105\n",
      "sum = 120\n",
      "sum = 136\n",
      "sum = 153\n",
      "sum = 171\n",
      "sum = 190\n",
      "sum = 210\n",
      "sum = 231\n",
      "sum = 253\n",
      "sum = 276\n",
      "sum = 300\n",
      "sum = 325\n",
      "sum = 351\n",
      "sum = 378\n",
      "sum = 406\n",
      "sum = 435\n",
      "sum = 465\n",
      "sum = 496\n",
      "sum = 528\n",
      "sum = 561\n",
      "sum = 595\n",
      "sum = 630\n",
      "sum = 666\n",
      "sum = 703\n",
      "sum = 741\n",
      "sum = 780\n",
      "sum = 820\n",
      "sum = 861\n",
      "sum = 903\n",
      "sum = 946\n",
      "sum = 990\n",
      "sum = 1035\n",
      "sum = 1081\n",
      "sum = 1128\n",
      "sum = 1176\n",
      "sum = 1225\n",
      "sum = 1275\n",
      "sum = 1326\n",
      "sum = 1378\n",
      "sum = 1431\n",
      "sum = 1485\n",
      "sum = 1540\n",
      "sum = 1596\n",
      "sum = 1653\n",
      "sum = 1711\n",
      "sum = 1770\n",
      "sum = 1830\n",
      "sum = 1891\n",
      "sum = 1953\n",
      "sum = 2016\n",
      "sum = 2080\n",
      "sum = 2145\n",
      "sum = 2211\n",
      "sum = 2278\n",
      "sum = 2346\n",
      "sum = 2415\n",
      "sum = 2485\n",
      "sum = 2556\n",
      "sum = 2628\n",
      "sum = 2701\n",
      "sum = 2775\n",
      "sum = 2850\n",
      "sum = 2926\n",
      "sum = 3003\n",
      "sum = 3081\n",
      "sum = 3160\n",
      "sum = 3240\n",
      "sum = 3321\n",
      "sum = 3403\n",
      "sum = 3486\n",
      "sum = 3570\n",
      "sum = 3655\n",
      "sum = 3741\n",
      "sum = 3828\n",
      "sum = 3916\n",
      "sum = 4005\n",
      "sum = 4095\n",
      "sum = 4186\n",
      "sum = 4278\n",
      "sum = 4371\n",
      "sum = 4465\n",
      "sum = 4560\n",
      "sum = 4656\n",
      "sum = 4753\n",
      "sum = 4851\n",
      "sum = 4950\n",
      "sum = 5050\n"
     ]
    }
   ],
   "source": [
    "#sum of numbers from 1 to 100\n",
    "total = 0\n",
    "for i in range(1, 101):\n",
    "    total += i\n",
    "    print(\"sum =\", total)\n"
   ]
  },
  {
   "cell_type": "code",
   "execution_count": null,
   "id": "79be760f-26f0-481e-ba1d-9cb4d1c92e90",
   "metadata": {},
   "outputs": [],
   "source": []
  }
 ],
 "metadata": {
  "kernelspec": {
   "display_name": "Python [conda env:anaconda2]",
   "language": "python",
   "name": "conda-env-anaconda2-py"
  },
  "language_info": {
   "codemirror_mode": {
    "name": "ipython",
    "version": 3
   },
   "file_extension": ".py",
   "mimetype": "text/x-python",
   "name": "python",
   "nbconvert_exporter": "python",
   "pygments_lexer": "ipython3",
   "version": "3.12.7"
  }
 },
 "nbformat": 4,
 "nbformat_minor": 5
}
